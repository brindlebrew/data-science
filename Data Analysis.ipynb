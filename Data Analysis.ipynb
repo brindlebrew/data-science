{
 "cells": [
  {
   "cell_type": "code",
   "execution_count": 1,
   "metadata": {
    "collapsed": true
   },
   "outputs": [],
   "source": [
    "# Data Managment and Exploration Class\n",
    "\n",
    "# Import needed libraries for analysis and load data:\n",
    "import pandas as pd\n",
    "import numpy as np\n",
    "from itertools import groupby"
   ]
  },
  {
   "cell_type": "code",
   "execution_count": 2,
   "metadata": {
    "collapsed": false
   },
   "outputs": [],
   "source": [
    "data = pd.read_csv(\"C:/Users/Bryon Martinez/Documents/Data Science/analysis/nesarc_pds.csv\",low_memory=False)"
   ]
  },
  {
   "cell_type": "code",
   "execution_count": 3,
   "metadata": {
    "collapsed": false
   },
   "outputs": [
    {
     "name": "stdout",
     "output_type": "stream",
     "text": [
      "43093\n",
      "3008\n"
     ]
    }
   ],
   "source": [
    "print(len(data))\n",
    "print(len(data.columns))"
   ]
  },
  {
   "cell_type": "code",
   "execution_count": 4,
   "metadata": {
    "collapsed": true
   },
   "outputs": [
    {
     "name": "stdout",
     "output_type": "stream",
     "text": [
      "Gender count = \n",
      "1    18518\n",
      "2    24575\n",
      "Name: SEX, dtype: int64\n",
      "Gender percentage = \n",
      "1    0.429722\n",
      "2    0.570278\n",
      "Name: SEX, dtype: float64\n",
      "Father alc abuse count = \n",
      "1     8124\n",
      "2    32445\n",
      "9     2524\n",
      "Name: S2DQ1, dtype: int64\n",
      "Father alc abuse percent = \n",
      "1    0.188522\n",
      "2    0.752907\n",
      "9    0.058571\n",
      "Name: S2DQ1, dtype: float64\n",
      "Mother alc abuse count = \n",
      "1     2311\n",
      "2    39553\n",
      "9     1229\n",
      "Name: S2DQ2, dtype: int64\n",
      "Mother alc abuse percent = \n",
      "1    0.053628\n",
      "2    0.917852\n",
      "9    0.028520\n",
      "Name: S2DQ2, dtype: float64\n",
      "Father drug abuse count = \n",
      "1     1068\n",
      "2    38975\n",
      "9     3050\n",
      "Name: S3EQ1, dtype: int64\n",
      "Father drug abuse percent = \n",
      "1    0.024784\n",
      "2    0.904439\n",
      "9    0.070777\n",
      "Name: S3EQ1, dtype: float64\n",
      "Mother drug abuse count = \n",
      "1      720\n",
      "2    40641\n",
      "9     1732\n",
      "Name: S3EQ2, dtype: int64\n",
      "Mother drug abuse percent = \n",
      "1    0.016708\n",
      "2    0.943100\n",
      "9    0.040192\n",
      "Name: S3EQ2, dtype: float64\n",
      "Alc. abuse last 12 months count = \n",
      "0    39766\n",
      "1     1843\n",
      "2      553\n",
      "3      931\n",
      "Name: ALCABDEP12DX, dtype: int64\n",
      "Alc. abuse last 12 months percent = \n",
      "0    0.922795\n",
      "1    0.042768\n",
      "2    0.012833\n",
      "3    0.021604\n",
      "Name: ALCABDEP12DX, dtype: float64\n",
      "Alc. abuse prev 12 months count = \n",
      "0    31677\n",
      "1     6994\n",
      "2      563\n",
      "3     3859\n",
      "Name: ALCABDEPP12DX, dtype: int64\n",
      "Alc. abuse prev 12 months percent = \n",
      "0    0.735085\n",
      "1    0.162300\n",
      "2    0.013065\n",
      "3    0.089551\n",
      "Name: ALCABDEPP12DX, dtype: float64\n"
     ]
    }
   ],
   "source": [
    "print (\"Gender count = \")\n",
    "sex = data['SEX'].value_counts(sort=False, dropna=True)\n",
    "print (sex)\n",
    "\n",
    "print (\"Gender percentage = \")\n",
    "sex_p = data['SEX'].value_counts(sort=False, normalize=True, dropna=True)\n",
    "print (sex_p)\n",
    "\n",
    "print (\"Father alc abuse count = \")\n",
    "father_alc = data['S2DQ1'].value_counts(sort=False, dropna=True)\n",
    "print (father_alc)\n",
    "\n",
    "print (\"Father alc abuse percent = \")\n",
    "father_alc_p = data['S2DQ1'].value_counts(sort=False, normalize=True, dropna=True)\n",
    "print (father_alc_p)\n",
    "\n",
    "print (\"Mother alc abuse count = \")\n",
    "mother_alc = data['S2DQ2'].value_counts(sort=False, dropna=True)\n",
    "print (mother_alc)\n",
    "\n",
    "print (\"Mother alc abuse percent = \")\n",
    "mother_alc_p = data['S2DQ2'].value_counts(sort=False, normalize=True, dropna=True)\n",
    "print (mother_alc_p)\n",
    "\n",
    "print (\"Father drug abuse count = \")\n",
    "father_drug = data['S3EQ1'].value_counts(sort=False, dropna=True)\n",
    "print (father_drug)\n",
    "\n",
    "print (\"Father drug abuse percent = \")\n",
    "father_drug_p = data['S3EQ1'].value_counts(sort=False, normalize=True, dropna=True)\n",
    "print (father_drug_p)\n",
    "\n",
    "print (\"Mother drug abuse count = \")\n",
    "mother_drug = data['S3EQ2'].value_counts(sort=False, dropna=True)\n",
    "print (mother_drug)\n",
    "\n",
    "print (\"Mother drug abuse percent = \")\n",
    "mother_drug_p = data['S3EQ2'].value_counts(sort=False, normalize=True, dropna=True)\n",
    "print (mother_drug_p)\n",
    "\n",
    "print (\"Alc. abuse last 12 months count = \")\n",
    "alc_ab_12 = data['ALCABDEP12DX'].value_counts(sort=False, dropna=True)\n",
    "print (alc_ab_12)\n",
    "\n",
    "print (\"Alc. abuse last 12 months percent = \")\n",
    "alc_ab_12_p = data['ALCABDEP12DX'].value_counts(sort=False, normalize=True, dropna=True)\n",
    "print (alc_ab_12_p)\n",
    "\n",
    "print (\"Alc. abuse prev 12 months count = \")\n",
    "alc_ab_p12 = data['ALCABDEPP12DX'].value_counts(sort=False, dropna=True)\n",
    "print (alc_ab_p12)\n",
    "\n",
    "print (\"Alc. abuse prev 12 months percent = \")\n",
    "alc_ab_p12_p = data['ALCABDEPP12DX'].value_counts(sort=False, normalize=True, dropna=True)\n",
    "print (alc_ab_p12_p)"
   ]
  },
  {
   "cell_type": "code",
   "execution_count": 5,
   "metadata": {
    "collapsed": true
   },
   "outputs": [
    {
     "name": "stdout",
     "output_type": "stream",
     "text": [
      "1      934\n",
      "2      884\n",
      "3      923\n",
      "4      573\n",
      "5     1070\n",
      "6      463\n",
      "7      269\n",
      "8      299\n",
      "9       49\n",
      "10    3077\n",
      "11      23\n",
      "12     230\n",
      "13      34\n",
      "14      25\n",
      "15     851\n",
      "16      40\n",
      "17      22\n",
      "18      59\n",
      "19       5\n",
      "20    5366\n",
      "21       1\n",
      "22      10\n",
      "23       2\n",
      "24       7\n",
      "25     155\n",
      "27       2\n",
      "28       3\n",
      "29       3\n",
      "30     909\n",
      "33       1\n",
      "34       1\n",
      "35      30\n",
      "37       2\n",
      "39       1\n",
      "40     993\n",
      "45       8\n",
      "50     106\n",
      "55       2\n",
      "57       1\n",
      "60     241\n",
      "66       1\n",
      "70      12\n",
      "75       2\n",
      "80      47\n",
      "98      15\n",
      "99     262\n",
      "Name: S3AQ3C1, dtype: int64\n",
      "1     0.021674\n",
      "2     0.020514\n",
      "3     0.021419\n",
      "4     0.013297\n",
      "5     0.024830\n",
      "6     0.010744\n",
      "7     0.006242\n",
      "8     0.006938\n",
      "9     0.001137\n",
      "10    0.071404\n",
      "11    0.000534\n",
      "12    0.005337\n",
      "13    0.000789\n",
      "14    0.000580\n",
      "15    0.019748\n",
      "16    0.000928\n",
      "17    0.000511\n",
      "18    0.001369\n",
      "19    0.000116\n",
      "20    0.124521\n",
      "21    0.000023\n",
      "22    0.000232\n",
      "23    0.000046\n",
      "24    0.000162\n",
      "25    0.003597\n",
      "27    0.000046\n",
      "28    0.000070\n",
      "29    0.000070\n",
      "30    0.021094\n",
      "33    0.000023\n",
      "34    0.000023\n",
      "35    0.000696\n",
      "37    0.000046\n",
      "39    0.000023\n",
      "40    0.023043\n",
      "45    0.000186\n",
      "50    0.002460\n",
      "55    0.000046\n",
      "57    0.000023\n",
      "60    0.005593\n",
      "66    0.000023\n",
      "70    0.000278\n",
      "75    0.000046\n",
      "80    0.001091\n",
      "98    0.000348\n",
      "99    0.006080\n",
      "Name: S3AQ3C1, dtype: float64\n"
     ]
    },
    {
     "name": "stderr",
     "output_type": "stream",
     "text": [
      "C:\\Anaconda3\\lib\\site-packages\\ipykernel\\__main__.py:2: FutureWarning: convert_objects is deprecated.  Use the data-type specific converters pd.to_datetime, pd.to_timedelta and pd.to_numeric.\n",
      "  from ipykernel import kernelapp as app\n"
     ]
    }
   ],
   "source": [
    "#convert data sets from string to int for depicting in order vs split 1,10, 11...\n",
    "data['S3AQ3C1']=data['S3AQ3C1'].convert_objects(convert_numeric=True)\n",
    "c2 = data['S3AQ3C1'].value_counts(sort=False)\n",
    "p2 = data['S3AQ3C1'].value_counts(sort=False, normalize=True)\n",
    "\n",
    "print(c2)\n",
    "print(p2)"
   ]
  },
  {
   "cell_type": "code",
   "execution_count": 6,
   "metadata": {
    "collapsed": false
   },
   "outputs": [],
   "source": [
    "#sub1-6 is all for males interviewed; sub1/2 is for father alc. abuse, sub3/4 is for mother alc. abuse, \n",
    "#and sub5/6 is for both father and mother alc. abuse.\n",
    "\n",
    "sub1 = data[(data['SEX']==1) & (data['S2DQ1']== 1) & (data['S2DQ2']==2)]\n",
    "sub2 = sub1.copy()\n",
    "\n",
    "sub3 = data[(data['SEX']==1) & (data['S2DQ1']== 2) & (data['S2DQ2']==1)]\n",
    "sub4 = sub3.copy()\n",
    "\n",
    "sub5 = data[(data['SEX']==1) & (data['S2DQ1']== 1) & (data['S2DQ2']==1)]\n",
    "sub6 = sub5.copy()"
   ]
  },
  {
   "cell_type": "code",
   "execution_count": 7,
   "metadata": {
    "collapsed": true
   },
   "outputs": [],
   "source": [
    "#sub7-12 is all for females interviewed; sub1/2 is for father alc. abuse, sub3/4 is for mother alc. abuse, \n",
    "#and sub5/6 is for both father and mother alc. abuse.\n",
    "\n",
    "sub7 = data[(data['SEX']==2) & (data['S2DQ1']== 1) & (data['S2DQ2']==2)]\n",
    "sub8 = sub7.copy()\n",
    "\n",
    "sub9 = data[(data['SEX']==2) & (data['S2DQ1']== 2) & (data['S2DQ2']==1)]\n",
    "sub10 = sub9.copy()\n",
    "\n",
    "sub11 = data[(data['SEX']==2) & (data['S2DQ1']== 1) & (data['S2DQ2']==1)]\n",
    "sub12 = sub11.copy()"
   ]
  },
  {
   "cell_type": "code",
   "execution_count": 8,
   "metadata": {
    "collapsed": true
   },
   "outputs": [],
   "source": [
    "#Gender broken by male: sub13/14 and female: sub15/16 with no history\n",
    "\n",
    "sub13 = data[(data['SEX']==1) & (data['S2DQ1']== 2) & (data['S2DQ2']==2)]\n",
    "sub14 = sub13.copy()\n",
    "\n",
    "sub15 = data[(data['SEX']==2) & (data['S2DQ1']== 2) & (data['S2DQ2']==2)]\n",
    "sub16 = sub15.copy()"
   ]
  },
  {
   "cell_type": "code",
   "execution_count": 9,
   "metadata": {
    "collapsed": false
   },
   "outputs": [
    {
     "name": "stdout",
     "output_type": "stream",
     "text": [
      "<class 'pandas.core.frame.DataFrame'>\n",
      "Int64Index: 2694 entries, 0 to 43092\n",
      "Columns: 3008 entries, ETHRACE2A to OTHBP12ABDEP\n",
      "dtypes: float64(12), int64(654), object(2342)\n",
      "memory usage: 61.8+ MB\n"
     ]
    }
   ],
   "source": [
    "sub2.info()"
   ]
  },
  {
   "cell_type": "code",
   "execution_count": 10,
   "metadata": {
    "collapsed": true
   },
   "outputs": [
    {
     "name": "stdout",
     "output_type": "stream",
     "text": [
      "No Parent History:\n",
      "Gender Count = \n",
      "1    13885\n",
      "Name: SEX, dtype: int64\n",
      "Alc. Dependence in last 12 months percent = \n",
      "0    0.898668\n",
      "1    0.062297\n",
      "2    0.013612\n",
      "3    0.025423\n",
      "Name: ALCABDEP12DX, dtype: float64\n",
      "Alc. Dependence prior to last 12 months percent = \n",
      "0    0.655744\n",
      "1    0.229888\n",
      "2    0.011883\n",
      "3    0.102485\n",
      "Name: ALCABDEPP12DX, dtype: float64\n",
      "Father History:\n",
      "Gender Count = \n",
      "1    2694\n",
      "Name: SEX, dtype: int64\n",
      "Alc. Dependence in last 12 months percent = \n",
      "0    0.821084\n",
      "2    0.027097\n",
      "1    0.087231\n",
      "3    0.064588\n",
      "Name: ALCABDEP12DX, dtype: float64\n",
      "Alc. Dependence prior to last 12 months percent = \n",
      "0    0.452858\n",
      "2    0.020787\n",
      "1    0.282108\n",
      "3    0.244246\n",
      "Name: ALCABDEPP12DX, dtype: float64\n",
      "Mother History:\n",
      "Gender Count = \n",
      "1    308\n",
      "Name: SEX, dtype: int64\n",
      "Alc. Dependence in last 12 months percent = \n",
      "0    0.775974\n",
      "1    0.107143\n",
      "2    0.029221\n",
      "3    0.087662\n",
      "Name: ALCABDEP12DX, dtype: float64\n",
      "Alc. Dependence prior to last 12 months percent = \n",
      "0    0.422078\n",
      "1    0.305195\n",
      "2    0.009740\n",
      "3    0.262987\n",
      "Name: ALCABDEPP12DX, dtype: float64\n",
      "Father and Mother both History:\n",
      "Gender Count = \n",
      "1    481\n",
      "Name: SEX, dtype: int64\n",
      "Alc. Dependence in last 12 months percent = \n",
      "0    0.767152\n",
      "1    0.087318\n",
      "2    0.024948\n",
      "3    0.120582\n",
      "Name: ALCABDEP12DX, dtype: float64\n",
      "Alc. Dependence prior to last 12 months percent = \n",
      "0    0.334719\n",
      "1    0.251559\n",
      "2    0.008316\n",
      "3    0.405405\n",
      "Name: ALCABDEPP12DX, dtype: float64\n"
     ]
    }
   ],
   "source": [
    "#Overview for men\n",
    "print(\"No Parent History:\")\n",
    "print (\"Gender Count = \")\n",
    "sex = sub14['SEX'].value_counts(sort=False, dropna=True)\n",
    "print (sex)\n",
    "\n",
    "print (\"Alc. Dependence in last 12 months percent = \")\n",
    "alc_ab_12_p = sub14['ALCABDEP12DX'].value_counts(sort=False, normalize=True,dropna=True)\n",
    "print (alc_ab_12_p)\n",
    "\n",
    "print (\"Alc. Dependence prior to last 12 months percent = \")\n",
    "alc_ab_p12_p = sub14['ALCABDEPP12DX'].value_counts(sort=False, normalize=True, dropna=True)\n",
    "print (alc_ab_p12_p)\n",
    "\n",
    "print(\"Father History:\")\n",
    "print (\"Gender Count = \")\n",
    "sex = sub2['SEX'].value_counts(sort=False, dropna=True)\n",
    "print (sex)\n",
    "\n",
    "print (\"Alc. Dependence in last 12 months percent = \")\n",
    "alc_ab_12_p = sub2['ALCABDEP12DX'].value_counts(sort=False, normalize=True, dropna=True)\n",
    "print (alc_ab_12_p)\n",
    "\n",
    "print (\"Alc. Dependence prior to last 12 months percent = \")\n",
    "alc_ab_p12_p = sub2['ALCABDEPP12DX'].value_counts(sort=False, normalize=True, dropna=True)\n",
    "print (alc_ab_p12_p)\n",
    "\n",
    "print(\"Mother History:\")\n",
    "print (\"Gender Count = \")\n",
    "sex = sub4['SEX'].value_counts(sort=False, dropna=True)\n",
    "print (sex)\n",
    "\n",
    "print (\"Alc. Dependence in last 12 months percent = \")\n",
    "alc_ab_12_p = sub4['ALCABDEP12DX'].value_counts(sort=False, normalize=True, dropna=True)\n",
    "print (alc_ab_12_p)\n",
    "\n",
    "print (\"Alc. Dependence prior to last 12 months percent = \")\n",
    "alc_ab_p12_p = sub4['ALCABDEPP12DX'].value_counts(sort=False, normalize=True, dropna=True)\n",
    "print (alc_ab_p12_p)\n",
    "\n",
    "print(\"Father and Mother both History:\")\n",
    "print (\"Gender Count = \")\n",
    "sex = sub6['SEX'].value_counts(sort=False, dropna=True)\n",
    "print (sex)\n",
    "\n",
    "print (\"Alc. Dependence in last 12 months percent = \")\n",
    "alc_ab_12_p = sub6['ALCABDEP12DX'].value_counts(sort=False, normalize=True, dropna=True)\n",
    "print (alc_ab_12_p)\n",
    "\n",
    "print (\"Alc. Dependence prior to last 12 months percent = \")\n",
    "alc_ab_p12_p = sub6['ALCABDEPP12DX'].value_counts(sort=False, normalize=True, dropna=True)\n",
    "print (alc_ab_p12_p)"
   ]
  },
  {
   "cell_type": "code",
   "execution_count": null,
   "metadata": {
    "collapsed": true
   },
   "outputs": [],
   "source": []
  },
  {
   "cell_type": "code",
   "execution_count": 11,
   "metadata": {
    "collapsed": false
   },
   "outputs": [
    {
     "name": "stdout",
     "output_type": "stream",
     "text": [
      "No Parent History:\n",
      "Gender Count = \n",
      "2    17585\n",
      "Name: SEX, dtype: int64\n",
      "Alc. Dependence in last 12 months percent = \n",
      "0    0.966676\n",
      "1    0.018993\n",
      "2    0.007450\n",
      "3    0.006881\n",
      "Name: ALCABDEP12DX, dtype: float64\n",
      "Alc. Dependence prior to last 12 months percent = \n",
      "0    0.872846\n",
      "1    0.083480\n",
      "2    0.010520\n",
      "3    0.033153\n",
      "Name: ALCABDEPP12DX, dtype: float64\n",
      "Father History:\n",
      "Gender Count = \n",
      "2    4090\n",
      "Name: SEX, dtype: int64\n",
      "Alc. Dependence in last 12 months percent = \n",
      "0    0.924694\n",
      "2    0.015159\n",
      "1    0.039609\n",
      "3    0.020538\n",
      "Name: ALCABDEP12DX, dtype: float64\n",
      "Alc. Dependence prior to last 12 months percent = \n",
      "0    0.726895\n",
      "2    0.018093\n",
      "1    0.158435\n",
      "3    0.096577\n",
      "Name: ALCABDEPP12DX, dtype: float64\n",
      "Mother History:\n",
      "Gender Count = \n",
      "2    547\n",
      "Name: SEX, dtype: int64\n",
      "Alc. Dependence in last 12 months percent = \n",
      "0    0.919561\n",
      "1    0.040219\n",
      "2    0.023766\n",
      "3    0.016453\n",
      "Name: ALCABDEP12DX, dtype: float64\n",
      "Alc. Dependence prior to last 12 months percent = \n",
      "0    0.643510\n",
      "1    0.210238\n",
      "2    0.020110\n",
      "3    0.126143\n",
      "Name: ALCABDEPP12DX, dtype: float64\n",
      "Father and Mother both History:\n",
      "Gender Count = \n",
      "2    784\n",
      "Name: SEX, dtype: int64\n",
      "Alc. Dependence in last 12 months percent = \n",
      "0    0.878827\n",
      "1    0.047194\n",
      "2    0.025510\n",
      "3    0.048469\n",
      "Name: ALCABDEP12DX, dtype: float64\n",
      "Alc. Dependence prior to last 12 months percent = \n",
      "0    0.559949\n",
      "1    0.195153\n",
      "2    0.028061\n",
      "3    0.216837\n",
      "Name: ALCABDEPP12DX, dtype: float64\n"
     ]
    }
   ],
   "source": [
    "#Overview for women\n",
    "print(\"No Parent History:\")\n",
    "print (\"Gender Count = \")\n",
    "sex = sub16['SEX'].value_counts(sort=False, dropna=True)\n",
    "print (sex)\n",
    "\n",
    "print (\"Alc. Dependence in last 12 months percent = \")\n",
    "alc_ab_12_p = sub16['ALCABDEP12DX'].value_counts(sort=False, normalize=True,dropna=True)\n",
    "print (alc_ab_12_p)\n",
    "\n",
    "print (\"Alc. Dependence prior to last 12 months percent = \")\n",
    "alc_ab_p12_p = sub16['ALCABDEPP12DX'].value_counts(sort=False, normalize=True, dropna=True)\n",
    "print (alc_ab_p12_p)\n",
    "\n",
    "print(\"Father History:\")\n",
    "print (\"Gender Count = \")\n",
    "sex = sub8['SEX'].value_counts(sort=False, dropna=True)\n",
    "print (sex)\n",
    "\n",
    "print (\"Alc. Dependence in last 12 months percent = \")\n",
    "alc_ab_12_p = sub8['ALCABDEP12DX'].value_counts(sort=False, normalize=True, dropna=True)\n",
    "print (alc_ab_12_p)\n",
    "\n",
    "print (\"Alc. Dependence prior to last 12 months percent = \")\n",
    "alc_ab_p12_p = sub8['ALCABDEPP12DX'].value_counts(sort=False, normalize=True, dropna=True)\n",
    "print (alc_ab_p12_p)\n",
    "\n",
    "print(\"Mother History:\")\n",
    "print (\"Gender Count = \")\n",
    "sex = sub10['SEX'].value_counts(sort=False, dropna=True)\n",
    "print (sex)\n",
    "\n",
    "print (\"Alc. Dependence in last 12 months percent = \")\n",
    "alc_ab_12_p = sub10['ALCABDEP12DX'].value_counts(sort=False, normalize=True, dropna=True)\n",
    "print (alc_ab_12_p)\n",
    "\n",
    "print (\"Alc. Dependence prior to last 12 months percent = \")\n",
    "alc_ab_p12_p = sub10['ALCABDEPP12DX'].value_counts(sort=False, normalize=True, dropna=True)\n",
    "print (alc_ab_p12_p)\n",
    "\n",
    "print(\"Father and Mother both History:\")\n",
    "print (\"Gender Count = \")\n",
    "sex = sub12['SEX'].value_counts(sort=False, dropna=True)\n",
    "print (sex)\n",
    "\n",
    "print (\"Alc. Dependence in last 12 months percent = \")\n",
    "alc_ab_12_p = sub12['ALCABDEP12DX'].value_counts(sort=False, normalize=True, dropna=True)\n",
    "print (alc_ab_12_p)\n",
    "\n",
    "print (\"Alc. Dependence prior to last 12 months percent = \")\n",
    "alc_ab_p12_p = sub12['ALCABDEPP12DX'].value_counts(sort=False, normalize=True, dropna=True)\n",
    "print (alc_ab_p12_p)"
   ]
  },
  {
   "cell_type": "code",
   "execution_count": null,
   "metadata": {
    "collapsed": false
   },
   "outputs": [],
   "source": [
    "sex = data.groupby(['SEX','ALCABDEP12DX','ALCABDEPP12DX'])\n",
    "\n",
    "sex.describe()"
   ]
  },
  {
   "cell_type": "code",
   "execution_count": 13,
   "metadata": {
    "collapsed": true
   },
   "outputs": [],
   "source": [
    "# Data analysis Notebook"
   ]
  },
  {
   "cell_type": "code",
   "execution_count": 14,
   "metadata": {
    "collapsed": false
   },
   "outputs": [
    {
     "data": {
      "text/plain": [
       "'import pandas as pd\\nimport numpy as np\\nimport statsmodels.formula.api as smf\\nimport statsmodels.stats.multicomp as multi'"
      ]
     },
     "execution_count": 14,
     "metadata": {},
     "output_type": "execute_result"
    }
   ],
   "source": [
    "'''import pandas as pd\n",
    "import numpy as np\n",
    "import statsmodels.formula.api as smf\n",
    "import statsmodels.stats.multicomp as multi'''"
   ]
  },
  {
   "cell_type": "code",
   "execution_count": 15,
   "metadata": {
    "collapsed": false
   },
   "outputs": [],
   "source": [
    "#data = pd.read_csv(\"C:/Data Science/analysis/nesarc_pds.csv\",low_memory=False)"
   ]
  },
  {
   "cell_type": "code",
   "execution_count": 16,
   "metadata": {
    "collapsed": false
   },
   "outputs": [],
   "source": [
    "#data['S3AQ3B1'] = data['S3AQ3B1'].to_numeric=True\n",
    "#data['S3AQ3C1'] = data['S3AQ3C1'].to_numeric=True\n",
    "#data['CHECK321'] = data['CHECK321'].to_numeric=True"
   ]
  },
  {
   "cell_type": "code",
   "execution_count": 17,
   "metadata": {
    "collapsed": true
   },
   "outputs": [],
   "source": [
    "#sub1=data[(data['AGE']>=18) & (data['AGE']<=25) & (data['CHECK321']==1)]"
   ]
  },
  {
   "cell_type": "code",
   "execution_count": 18,
   "metadata": {
    "collapsed": false
   },
   "outputs": [],
   "source": [
    "#sub1['S3AQ3B1']=sub1['S3AQ3B1'].replace(9, np.nan)\n",
    "#sub1['S3AQ3C1']=sub1['S3AQ3C1'].replace(99, np.nan)"
   ]
  },
  {
   "cell_type": "code",
   "execution_count": 19,
   "metadata": {
    "collapsed": false
   },
   "outputs": [],
   "source": [
    "#setting variables you will be working with to numeric\n",
    "#S2DQ1 =    Natural Father ever an alcoholic\n",
    "#S4AQ6A = AGE AT ONSET OF FIRST EPISODE\n",
    "#data['S2DQ1'] = data['S2DQ1'].convert_objects(convert_numeric=True)\n",
    "#data['S4AQ6A'] = data['S4AQ6A'].convert_objects(convert_numeric=True)\n",
    "\n",
    "#data['S2DQ1'] = data['S2DQ1']\n",
    "#data['S4AQ6A'] = data['S4AQ6A']\n",
    "#data['CHECK321'] = data['CHECK321'].convert_objects(convert_numeric=True)\n",
    "\n",
    "#subset data to onset of first episode in young adults age 18 to 25 whos natural father is not an alcoholic\n",
    "#sub1=data[(data['AGE']>=18) & (data['AGE']<=25) & (data['S2DQ1']==0)]"
   ]
  },
  {
   "cell_type": "code",
   "execution_count": 20,
   "metadata": {
    "collapsed": false
   },
   "outputs": [],
   "source": [
    "#data['S2DQ1']\n",
    "#data['S4AQ6A']"
   ]
  },
  {
   "cell_type": "code",
   "execution_count": 21,
   "metadata": {
    "collapsed": true
   },
   "outputs": [],
   "source": [
    "#SETTING MISSING DATA\n",
    "#sub1['S4AQ6A']=sub1['S4AQ6A'].dropna()\n",
    "#sub1['S2DQ1']=sub1['S2DQ1'].dropna()"
   ]
  },
  {
   "cell_type": "code",
   "execution_count": 22,
   "metadata": {
    "collapsed": false
   },
   "outputs": [],
   "source": [
    "#sub1['S4AQ6A']\n",
    "#sub1['S2DQ1']"
   ]
  },
  {
   "cell_type": "code",
   "execution_count": 23,
   "metadata": {
    "collapsed": false
   },
   "outputs": [],
   "source": [
    "# using ols function for calculating the F-statistic and associated p value\n",
    "#model1 = smf.ols(formula='S4AQ6A ~ C(S2DQ1)', data=sub1)\n",
    "#results1 = model1.fit()\n",
    "#print (results1.summary())"
   ]
  }
 ],
 "metadata": {
  "kernelspec": {
   "display_name": "Python 3",
   "language": "python",
   "name": "python3"
  },
  "language_info": {
   "codemirror_mode": {
    "name": "ipython",
    "version": 3
   },
   "file_extension": ".py",
   "mimetype": "text/x-python",
   "name": "python",
   "nbconvert_exporter": "python",
   "pygments_lexer": "ipython3",
   "version": "3.5.1"
  }
 },
 "nbformat": 4,
 "nbformat_minor": 0
}
